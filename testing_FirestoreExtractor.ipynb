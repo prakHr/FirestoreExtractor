{
  "nbformat": 4,
  "nbformat_minor": 0,
  "metadata": {
    "colab": {
      "name": "testing_FirestoreExtractor.ipynb",
      "provenance": []
    },
    "kernelspec": {
      "name": "python3",
      "display_name": "Python 3"
    },
    "language_info": {
      "name": "python"
    }
  },
  "cells": [
    {
      "cell_type": "code",
      "metadata": {
        "colab": {
          "base_uri": "https://localhost:8080/"
        },
        "id": "M2sAndSD6gkb",
        "outputId": "962ec2d2-ab0e-479d-bc54-e70f74dfa156"
      },
      "source": [
        "!pip install FirestoreExtractor --upgrade"
      ],
      "execution_count": 1,
      "outputs": [
        {
          "output_type": "stream",
          "text": [
            "Requirement already satisfied: FirestoreExtractor in /usr/local/lib/python3.7/dist-packages (1.1)\n",
            "Collecting FirestoreExtractor\n",
            "  Downloading FirestoreExtractor-1.2.tar.gz (1.6 kB)\n",
            "Requirement already satisfied: firebase-admin in /usr/local/lib/python3.7/dist-packages (from FirestoreExtractor) (4.4.0)\n",
            "Requirement already satisfied: google-cloud-firestore>=1.4.0 in /usr/local/lib/python3.7/dist-packages (from firebase-admin->FirestoreExtractor) (1.7.0)\n",
            "Requirement already satisfied: google-api-python-client>=1.7.8 in /usr/local/lib/python3.7/dist-packages (from firebase-admin->FirestoreExtractor) (1.12.8)\n",
            "Requirement already satisfied: google-api-core[grpc]<2.0.0dev,>=1.14.0 in /usr/local/lib/python3.7/dist-packages (from firebase-admin->FirestoreExtractor) (1.26.3)\n",
            "Requirement already satisfied: cachecontrol>=0.12.6 in /usr/local/lib/python3.7/dist-packages (from firebase-admin->FirestoreExtractor) (0.12.6)\n",
            "Requirement already satisfied: google-cloud-storage>=1.18.0 in /usr/local/lib/python3.7/dist-packages (from firebase-admin->FirestoreExtractor) (1.18.1)\n",
            "Requirement already satisfied: requests in /usr/local/lib/python3.7/dist-packages (from cachecontrol>=0.12.6->firebase-admin->FirestoreExtractor) (2.23.0)\n",
            "Requirement already satisfied: msgpack>=0.5.2 in /usr/local/lib/python3.7/dist-packages (from cachecontrol>=0.12.6->firebase-admin->FirestoreExtractor) (1.0.2)\n",
            "Requirement already satisfied: packaging>=14.3 in /usr/local/lib/python3.7/dist-packages (from google-api-core[grpc]<2.0.0dev,>=1.14.0->firebase-admin->FirestoreExtractor) (21.0)\n",
            "Requirement already satisfied: setuptools>=40.3.0 in /usr/local/lib/python3.7/dist-packages (from google-api-core[grpc]<2.0.0dev,>=1.14.0->firebase-admin->FirestoreExtractor) (57.2.0)\n",
            "Requirement already satisfied: pytz in /usr/local/lib/python3.7/dist-packages (from google-api-core[grpc]<2.0.0dev,>=1.14.0->firebase-admin->FirestoreExtractor) (2018.9)\n",
            "Requirement already satisfied: googleapis-common-protos<2.0dev,>=1.6.0 in /usr/local/lib/python3.7/dist-packages (from google-api-core[grpc]<2.0.0dev,>=1.14.0->firebase-admin->FirestoreExtractor) (1.53.0)\n",
            "Requirement already satisfied: six>=1.13.0 in /usr/local/lib/python3.7/dist-packages (from google-api-core[grpc]<2.0.0dev,>=1.14.0->firebase-admin->FirestoreExtractor) (1.15.0)\n",
            "Requirement already satisfied: google-auth<2.0dev,>=1.21.1 in /usr/local/lib/python3.7/dist-packages (from google-api-core[grpc]<2.0.0dev,>=1.14.0->firebase-admin->FirestoreExtractor) (1.32.1)\n",
            "Requirement already satisfied: protobuf>=3.12.0 in /usr/local/lib/python3.7/dist-packages (from google-api-core[grpc]<2.0.0dev,>=1.14.0->firebase-admin->FirestoreExtractor) (3.17.3)\n",
            "Requirement already satisfied: grpcio<2.0dev,>=1.29.0 in /usr/local/lib/python3.7/dist-packages (from google-api-core[grpc]<2.0.0dev,>=1.14.0->firebase-admin->FirestoreExtractor) (1.34.1)\n",
            "Requirement already satisfied: google-auth-httplib2>=0.0.3 in /usr/local/lib/python3.7/dist-packages (from google-api-python-client>=1.7.8->firebase-admin->FirestoreExtractor) (0.0.4)\n",
            "Requirement already satisfied: httplib2<1dev,>=0.15.0 in /usr/local/lib/python3.7/dist-packages (from google-api-python-client>=1.7.8->firebase-admin->FirestoreExtractor) (0.17.4)\n",
            "Requirement already satisfied: uritemplate<4dev,>=3.0.0 in /usr/local/lib/python3.7/dist-packages (from google-api-python-client>=1.7.8->firebase-admin->FirestoreExtractor) (3.0.1)\n",
            "Requirement already satisfied: rsa<5,>=3.1.4 in /usr/local/lib/python3.7/dist-packages (from google-auth<2.0dev,>=1.21.1->google-api-core[grpc]<2.0.0dev,>=1.14.0->firebase-admin->FirestoreExtractor) (4.7.2)\n",
            "Requirement already satisfied: cachetools<5.0,>=2.0.0 in /usr/local/lib/python3.7/dist-packages (from google-auth<2.0dev,>=1.21.1->google-api-core[grpc]<2.0.0dev,>=1.14.0->firebase-admin->FirestoreExtractor) (4.2.2)\n",
            "Requirement already satisfied: pyasn1-modules>=0.2.1 in /usr/local/lib/python3.7/dist-packages (from google-auth<2.0dev,>=1.21.1->google-api-core[grpc]<2.0.0dev,>=1.14.0->firebase-admin->FirestoreExtractor) (0.2.8)\n",
            "Requirement already satisfied: google-cloud-core<2.0dev,>=1.0.3 in /usr/local/lib/python3.7/dist-packages (from google-cloud-firestore>=1.4.0->firebase-admin->FirestoreExtractor) (1.0.3)\n",
            "Requirement already satisfied: google-resumable-media<0.5.0dev,>=0.3.1 in /usr/local/lib/python3.7/dist-packages (from google-cloud-storage>=1.18.0->firebase-admin->FirestoreExtractor) (0.4.1)\n",
            "Requirement already satisfied: pyparsing>=2.0.2 in /usr/local/lib/python3.7/dist-packages (from packaging>=14.3->google-api-core[grpc]<2.0.0dev,>=1.14.0->firebase-admin->FirestoreExtractor) (2.4.7)\n",
            "Requirement already satisfied: pyasn1<0.5.0,>=0.4.6 in /usr/local/lib/python3.7/dist-packages (from pyasn1-modules>=0.2.1->google-auth<2.0dev,>=1.21.1->google-api-core[grpc]<2.0.0dev,>=1.14.0->firebase-admin->FirestoreExtractor) (0.4.8)\n",
            "Requirement already satisfied: certifi>=2017.4.17 in /usr/local/lib/python3.7/dist-packages (from requests->cachecontrol>=0.12.6->firebase-admin->FirestoreExtractor) (2021.5.30)\n",
            "Requirement already satisfied: idna<3,>=2.5 in /usr/local/lib/python3.7/dist-packages (from requests->cachecontrol>=0.12.6->firebase-admin->FirestoreExtractor) (2.10)\n",
            "Requirement already satisfied: urllib3!=1.25.0,!=1.25.1,<1.26,>=1.21.1 in /usr/local/lib/python3.7/dist-packages (from requests->cachecontrol>=0.12.6->firebase-admin->FirestoreExtractor) (1.24.3)\n",
            "Requirement already satisfied: chardet<4,>=3.0.2 in /usr/local/lib/python3.7/dist-packages (from requests->cachecontrol>=0.12.6->firebase-admin->FirestoreExtractor) (3.0.4)\n",
            "Building wheels for collected packages: FirestoreExtractor\n",
            "  Building wheel for FirestoreExtractor (setup.py) ... \u001b[?25l\u001b[?25hdone\n",
            "  Created wheel for FirestoreExtractor: filename=FirestoreExtractor-1.2-py3-none-any.whl size=1729 sha256=17af3fe9d6b1def3c6bc4dcc69c3d54e6e73c45ed28c06120ae380e603419d1e\n",
            "  Stored in directory: /root/.cache/pip/wheels/2e/4d/66/5d14111acd16f68110c56676d04cde7030d474eb244f7136d2\n",
            "Successfully built FirestoreExtractor\n",
            "Installing collected packages: FirestoreExtractor\n",
            "  Attempting uninstall: FirestoreExtractor\n",
            "    Found existing installation: FirestoreExtractor 1.1\n",
            "    Uninstalling FirestoreExtractor-1.1:\n",
            "      Successfully uninstalled FirestoreExtractor-1.1\n",
            "Successfully installed FirestoreExtractor-1.2\n"
          ],
          "name": "stdout"
        }
      ]
    },
    {
      "cell_type": "code",
      "metadata": {
        "id": "RMz2oR7R66yR"
      },
      "source": [
        "import FirestoreExtractor\n",
        "from FirestoreExtractor import *\n",
        "from pprint import pprint\n"
      ],
      "execution_count": 2,
      "outputs": []
    },
    {
      "cell_type": "code",
      "metadata": {
        "id": "EH820XtP8ARJ"
      },
      "source": [
        "#import sys\n",
        "#print(sys.version)\n",
        "#print(sys.path)"
      ],
      "execution_count": 3,
      "outputs": []
    },
    {
      "cell_type": "code",
      "metadata": {
        "id": "gHYT7qGa67G-",
        "colab": {
          "base_uri": "https://localhost:8080/"
        },
        "outputId": "e455b354-bed1-48e4-8e04-03710ee362c6"
      },
      "source": [
        "\n",
        "json_file='certificate.json'\n",
        "firebase_url='https://project1-a9674.firebaseio.com'\n",
        "my_dict=extractFromFirebase(json_file,firebase_url)\n",
        "pprint(my_dict)"
      ],
      "execution_count": 4,
      "outputs": [
        {
          "output_type": "stream",
          "text": [
            "{'transaction': {'68746': {'discount': 45, 'total': 90},\n",
            "                 '7490545': {'discount': 34, 'total': 7888},\n",
            "                 '999999': {'discount': 55, 'total': 66}}}\n"
          ],
          "name": "stdout"
        }
      ]
    },
    {
      "cell_type": "code",
      "metadata": {
        "colab": {
          "base_uri": "https://localhost:8080/"
        },
        "id": "Zth5CKBnqDoh",
        "outputId": "94c5f647-9de0-4f07-a45c-3fd39cc785d1"
      },
      "source": [
        "certificate_json_file_path=json_file\n",
        "firestore_db_ref=extractFromFirstProjectOfFirebase(certificate_json_file_path)\n",
        "collection_name='barcode_inventory'\n",
        "collection=firestore_db_ref.collection(collection_name).get()\n",
        "extracted_Array=CollectionExtractor(collection)\n",
        "pprint(extracted_Array)"
      ],
      "execution_count": 10,
      "outputs": [
        {
          "output_type": "stream",
          "text": [
            "/usr/local/lib/python3.7/dist-packages/ipykernel_launcher.py:4: DeprecationWarning: 'Collection.get' is deprecated:  please use 'Collection.stream' instead.\n",
            "  after removing the cwd from sys.path.\n"
          ],
          "name": "stderr"
        },
        {
          "output_type": "stream",
          "text": [
            "[['01115165001012018108',\n",
            "  {'barcodeName': 'dixcy scott', 'barcodeNumber': '01115165001012018108'}],\n",
            " ['06003514174',\n",
            "  {'barcodeName': 'pani puri magic', 'barcodeNumber': '06003514174'}],\n",
            " ['1', {'barcodeName': '2', 'barcodeNumber': '1'}],\n",
            " ['123456', {'barcodeName': 'Bikaneri Bhujia', 'barcodeNumber': '123456'}],\n",
            " ['1234567', {'barcodeName': 'ghanja', 'barcodeNumber': '123455556'}],\n",
            " ['23456', {'barcodeName': 'cached', 'barcodeNumber': '23456'}],\n",
            " ['789', {'barcodeName': 'cola', 'barcodeNumber': '789'}],\n",
            " ['7890', {'barcodeName': 'coca-cola', 'barcodeNumber': '7890'}],\n",
            " ['9876', {'barcodeName': 'Ninty Eight', 'barcodeNumber': '9876'}],\n",
            " ['98765', {'barcodeName': 'Ninty Eight', 'barcodeNumber': '98765'}],\n",
            " ['999', {'barcodeName': 'chai', 'barcodeNumber': '999'}],\n",
            " ['9999', {'barcodeName': 'chai', 'barcodeNumber': '9999'}],\n",
            " ['QXfM5i3Ak2O3THigmNYJ',\n",
            "  {'barcodeName': 'erd', 'barcodeNumber': 'QXfM5i3Ak2O3THigmNYJ'}]]\n"
          ],
          "name": "stdout"
        }
      ]
    },
    {
      "cell_type": "code",
      "metadata": {
        "colab": {
          "base_uri": "https://localhost:8080/"
        },
        "id": "H8waiFNMvR2y",
        "outputId": "6675eb07-47f6-4ac9-8c3b-ac194430aa27"
      },
      "source": [
        "certificate_json_file_path=json_file\n",
        "firestore_db_ref=extractFromFirstProjectOfFirebase(certificate_json_file_path)\n",
        "collection_name='barcode_inventory'\n",
        "collection_ref=firestore_db_ref.collection(collection_name)\n",
        "extracted_Array=CollectionReferenceExtractor(collection_ref)\n",
        "pprint(extracted_Array)"
      ],
      "execution_count": 11,
      "outputs": [
        {
          "output_type": "stream",
          "text": [
            "[['01115165001012018108',\n",
            "  {'barcodeName': 'dixcy scott', 'barcodeNumber': '01115165001012018108'}],\n",
            " ['06003514174',\n",
            "  {'barcodeName': 'pani puri magic', 'barcodeNumber': '06003514174'}],\n",
            " ['1', {'barcodeName': '2', 'barcodeNumber': '1'}],\n",
            " ['123456', {'barcodeName': 'Bikaneri Bhujia', 'barcodeNumber': '123456'}],\n",
            " ['1234567', {'barcodeName': 'ghanja', 'barcodeNumber': '123455556'}],\n",
            " ['23456', {'barcodeName': 'cached', 'barcodeNumber': '23456'}],\n",
            " ['789', {'barcodeName': 'cola', 'barcodeNumber': '789'}],\n",
            " ['7890', {'barcodeName': 'coca-cola', 'barcodeNumber': '7890'}],\n",
            " ['9876', {'barcodeName': 'Ninty Eight', 'barcodeNumber': '9876'}],\n",
            " ['98765', {'barcodeName': 'Ninty Eight', 'barcodeNumber': '98765'}],\n",
            " ['999', {'barcodeName': 'chai', 'barcodeNumber': '999'}],\n",
            " ['9999', {'barcodeName': 'chai', 'barcodeNumber': '9999'}],\n",
            " ['QXfM5i3Ak2O3THigmNYJ',\n",
            "  {'barcodeName': 'erd', 'barcodeNumber': 'QXfM5i3Ak2O3THigmNYJ'}]]\n"
          ],
          "name": "stdout"
        }
      ]
    }
  ]
}